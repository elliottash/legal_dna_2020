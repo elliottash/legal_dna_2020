{
 "cells": [
  {
   "cell_type": "markdown",
   "metadata": {},
   "source": [
    "# Week 01. Introduction to Text Data\n",
    "\n",
    "Sequencing Legal DNA: NLP for Law and Political Economy\n",
    "<br>Elliott Ash, ETH Zurich"
   ]
  },
  {
   "cell_type": "code",
   "execution_count": 51,
   "metadata": {},
   "outputs": [],
   "source": [
    "# set random seed\n",
    "import numpy as np\n",
    "np.random.seed(4)"
   ]
  },
  {
   "cell_type": "markdown",
   "metadata": {},
   "source": [
    "# Loading and Inspecting Data with Pandas"
   ]
  },
  {
   "cell_type": "code",
   "execution_count": 52,
   "metadata": {},
   "outputs": [],
   "source": [
    "#import warnings; warnings.simplefilter('ignore')\n",
    "# !pip install pandas\n",
    "import pandas as pd\n",
    "df = pd.read_csv('sc_cases.zip',compression='gzip')"
   ]
  },
  {
   "cell_type": "code",
   "execution_count": 53,
   "metadata": {},
   "outputs": [
    {
     "name": "stdout",
     "output_type": "stream",
     "text": [
      "<class 'pandas.core.frame.DataFrame'>\n",
      "RangeIndex: 820 entries, 0 to 819\n",
      "Data columns (total 10 columns):\n",
      "case_name         786 non-null object\n",
      "opinion_type      820 non-null object\n",
      "date_standard     820 non-null object\n",
      "authorship        820 non-null object\n",
      "x_republican      803 non-null float64\n",
      "maj_judges        786 non-null object\n",
      "dissent_judges    786 non-null object\n",
      "topic_id          786 non-null float64\n",
      "cite_count        812 non-null float64\n",
      "opinion_text      820 non-null object\n",
      "dtypes: float64(3), object(7)\n",
      "memory usage: 64.2+ KB\n"
     ]
    }
   ],
   "source": [
    "df.info() "
   ]
  },
  {
   "cell_type": "code",
   "execution_count": 54,
   "metadata": {},
   "outputs": [
    {
     "data": {
      "text/html": [
       "<div>\n",
       "<style scoped>\n",
       "    .dataframe tbody tr th:only-of-type {\n",
       "        vertical-align: middle;\n",
       "    }\n",
       "\n",
       "    .dataframe tbody tr th {\n",
       "        vertical-align: top;\n",
       "    }\n",
       "\n",
       "    .dataframe thead th {\n",
       "        text-align: right;\n",
       "    }\n",
       "</style>\n",
       "<table border=\"1\" class=\"dataframe\">\n",
       "  <thead>\n",
       "    <tr style=\"text-align: right;\">\n",
       "      <th></th>\n",
       "      <th>case_name</th>\n",
       "      <th>opinion_type</th>\n",
       "      <th>date_standard</th>\n",
       "      <th>authorship</th>\n",
       "      <th>x_republican</th>\n",
       "      <th>maj_judges</th>\n",
       "      <th>dissent_judges</th>\n",
       "      <th>topic_id</th>\n",
       "      <th>cite_count</th>\n",
       "      <th>opinion_text</th>\n",
       "    </tr>\n",
       "  </thead>\n",
       "  <tbody>\n",
       "    <tr>\n",
       "      <th>0</th>\n",
       "      <td>ERICK CORNELL CLAY v. UNITED STATES</td>\n",
       "      <td>majority</td>\n",
       "      <td>2003-03-04</td>\n",
       "      <td>GINSBURG</td>\n",
       "      <td>0.0</td>\n",
       "      <td>['BREYER, STEPHEN', 'GINSBURG, RUTH', 'KENNEDY...</td>\n",
       "      <td>[]</td>\n",
       "      <td>1.0</td>\n",
       "      <td>2926.0</td>\n",
       "      <td>JUSTICE GINSBURG delivered the opinion of the ...</td>\n",
       "    </tr>\n",
       "    <tr>\n",
       "      <th>1</th>\n",
       "      <td>HILLSIDE DAIRY INC., A&amp;A DAIRY, L&amp;S DAIRY, AND...</td>\n",
       "      <td>majority</td>\n",
       "      <td>2003-06-09</td>\n",
       "      <td>STEVENS</td>\n",
       "      <td>1.0</td>\n",
       "      <td>['BREYER, STEPHEN', 'GINSBURG, RUTH', 'KENNEDY...</td>\n",
       "      <td>['THOMAS, CLARENCE']</td>\n",
       "      <td>8.0</td>\n",
       "      <td>117.0</td>\n",
       "      <td>Justice Stevens delivered the opinion of the C...</td>\n",
       "    </tr>\n",
       "    <tr>\n",
       "      <th>2</th>\n",
       "      <td>CHARLES RUSSELL RHINES v. DOUGLAS WEBER, WARDEN</td>\n",
       "      <td>majority</td>\n",
       "      <td>2005-03-30</td>\n",
       "      <td>O'CONNOR</td>\n",
       "      <td>1.0</td>\n",
       "      <td>['BREYER, STEPHEN', 'GINSBURG, RUTH', 'KENNEDY...</td>\n",
       "      <td>[]</td>\n",
       "      <td>1.0</td>\n",
       "      <td>23364.0</td>\n",
       "      <td>Justice O'Connor delivered the opinion of the ...</td>\n",
       "    </tr>\n",
       "    <tr>\n",
       "      <th>3</th>\n",
       "      <td>NaN</td>\n",
       "      <td>majority</td>\n",
       "      <td>2005-04-15</td>\n",
       "      <td>KENNEDY</td>\n",
       "      <td>1.0</td>\n",
       "      <td>NaN</td>\n",
       "      <td>NaN</td>\n",
       "      <td>NaN</td>\n",
       "      <td>6.0</td>\n",
       "      <td>Justice Kennedy, Circuit Justice. \\n\\n This is...</td>\n",
       "    </tr>\n",
       "    <tr>\n",
       "      <th>4</th>\n",
       "      <td>STATE OF ALASKA v. UNITED STATES OF AMERICA</td>\n",
       "      <td>majority</td>\n",
       "      <td>2005-06-06</td>\n",
       "      <td>KENNEDY</td>\n",
       "      <td>1.0</td>\n",
       "      <td>['BREYER, STEPHEN', 'GINSBURG, RUTH', 'KENNEDY...</td>\n",
       "      <td>['REHNQUIST, WILLIAM', 'SCALIA, ANTONIN', 'THO...</td>\n",
       "      <td>10.0</td>\n",
       "      <td>84.0</td>\n",
       "      <td>Justice Kennedy delivered the opinion of the C...</td>\n",
       "    </tr>\n",
       "  </tbody>\n",
       "</table>\n",
       "</div>"
      ],
      "text/plain": [
       "                                           case_name opinion_type  \\\n",
       "0                ERICK CORNELL CLAY v. UNITED STATES     majority   \n",
       "1  HILLSIDE DAIRY INC., A&A DAIRY, L&S DAIRY, AND...     majority   \n",
       "2    CHARLES RUSSELL RHINES v. DOUGLAS WEBER, WARDEN     majority   \n",
       "3                                                NaN     majority   \n",
       "4        STATE OF ALASKA v. UNITED STATES OF AMERICA     majority   \n",
       "\n",
       "  date_standard authorship  x_republican  \\\n",
       "0    2003-03-04   GINSBURG           0.0   \n",
       "1    2003-06-09    STEVENS           1.0   \n",
       "2    2005-03-30   O'CONNOR           1.0   \n",
       "3    2005-04-15    KENNEDY           1.0   \n",
       "4    2005-06-06    KENNEDY           1.0   \n",
       "\n",
       "                                          maj_judges  \\\n",
       "0  ['BREYER, STEPHEN', 'GINSBURG, RUTH', 'KENNEDY...   \n",
       "1  ['BREYER, STEPHEN', 'GINSBURG, RUTH', 'KENNEDY...   \n",
       "2  ['BREYER, STEPHEN', 'GINSBURG, RUTH', 'KENNEDY...   \n",
       "3                                                NaN   \n",
       "4  ['BREYER, STEPHEN', 'GINSBURG, RUTH', 'KENNEDY...   \n",
       "\n",
       "                                      dissent_judges  topic_id  cite_count  \\\n",
       "0                                                 []       1.0      2926.0   \n",
       "1                               ['THOMAS, CLARENCE']       8.0       117.0   \n",
       "2                                                 []       1.0     23364.0   \n",
       "3                                                NaN       NaN         6.0   \n",
       "4  ['REHNQUIST, WILLIAM', 'SCALIA, ANTONIN', 'THO...      10.0        84.0   \n",
       "\n",
       "                                        opinion_text  \n",
       "0  JUSTICE GINSBURG delivered the opinion of the ...  \n",
       "1  Justice Stevens delivered the opinion of the C...  \n",
       "2  Justice O'Connor delivered the opinion of the ...  \n",
       "3  Justice Kennedy, Circuit Justice. \\n\\n This is...  \n",
       "4  Justice Kennedy delivered the opinion of the C...  "
      ]
     },
     "execution_count": 54,
     "metadata": {},
     "output_type": "execute_result"
    }
   ],
   "source": [
    "df.head()"
   ]
  },
  {
   "cell_type": "code",
   "execution_count": 55,
   "metadata": {},
   "outputs": [
    {
     "data": {
      "text/html": [
       "<div>\n",
       "<style scoped>\n",
       "    .dataframe tbody tr th:only-of-type {\n",
       "        vertical-align: middle;\n",
       "    }\n",
       "\n",
       "    .dataframe tbody tr th {\n",
       "        vertical-align: top;\n",
       "    }\n",
       "\n",
       "    .dataframe thead th {\n",
       "        text-align: right;\n",
       "    }\n",
       "</style>\n",
       "<table border=\"1\" class=\"dataframe\">\n",
       "  <thead>\n",
       "    <tr style=\"text-align: right;\">\n",
       "      <th></th>\n",
       "      <th>case_name</th>\n",
       "      <th>opinion_type</th>\n",
       "      <th>date_standard</th>\n",
       "      <th>authorship</th>\n",
       "      <th>x_republican</th>\n",
       "      <th>maj_judges</th>\n",
       "      <th>dissent_judges</th>\n",
       "      <th>topic_id</th>\n",
       "      <th>cite_count</th>\n",
       "      <th>opinion_text</th>\n",
       "    </tr>\n",
       "  </thead>\n",
       "  <tbody>\n",
       "    <tr>\n",
       "      <th>0</th>\n",
       "      <td>ERICK CORNELL CLAY v. UNITED STATES</td>\n",
       "      <td>majority</td>\n",
       "      <td>2003-03-04</td>\n",
       "      <td>GINSBURG</td>\n",
       "      <td>0.0</td>\n",
       "      <td>['BREYER, STEPHEN', 'GINSBURG, RUTH', 'KENNEDY...</td>\n",
       "      <td>[]</td>\n",
       "      <td>1.0</td>\n",
       "      <td>2926.0</td>\n",
       "      <td>JUSTICE GINSBURG delivered the opinion of the ...</td>\n",
       "    </tr>\n",
       "    <tr>\n",
       "      <th>1</th>\n",
       "      <td>HILLSIDE DAIRY INC., A&amp;A DAIRY, L&amp;S DAIRY, AND...</td>\n",
       "      <td>majority</td>\n",
       "      <td>2003-06-09</td>\n",
       "      <td>STEVENS</td>\n",
       "      <td>1.0</td>\n",
       "      <td>['BREYER, STEPHEN', 'GINSBURG, RUTH', 'KENNEDY...</td>\n",
       "      <td>['THOMAS, CLARENCE']</td>\n",
       "      <td>8.0</td>\n",
       "      <td>117.0</td>\n",
       "      <td>Justice Stevens delivered the opinion of the C...</td>\n",
       "    </tr>\n",
       "    <tr>\n",
       "      <th>2</th>\n",
       "      <td>CHARLES RUSSELL RHINES v. DOUGLAS WEBER, WARDEN</td>\n",
       "      <td>majority</td>\n",
       "      <td>2005-03-30</td>\n",
       "      <td>O'CONNOR</td>\n",
       "      <td>1.0</td>\n",
       "      <td>['BREYER, STEPHEN', 'GINSBURG, RUTH', 'KENNEDY...</td>\n",
       "      <td>[]</td>\n",
       "      <td>1.0</td>\n",
       "      <td>23364.0</td>\n",
       "      <td>Justice O'Connor delivered the opinion of the ...</td>\n",
       "    </tr>\n",
       "    <tr>\n",
       "      <th>4</th>\n",
       "      <td>STATE OF ALASKA v. UNITED STATES OF AMERICA</td>\n",
       "      <td>majority</td>\n",
       "      <td>2005-06-06</td>\n",
       "      <td>KENNEDY</td>\n",
       "      <td>1.0</td>\n",
       "      <td>['BREYER, STEPHEN', 'GINSBURG, RUTH', 'KENNEDY...</td>\n",
       "      <td>['REHNQUIST, WILLIAM', 'SCALIA, ANTONIN', 'THO...</td>\n",
       "      <td>10.0</td>\n",
       "      <td>84.0</td>\n",
       "      <td>Justice Kennedy delivered the opinion of the C...</td>\n",
       "    </tr>\n",
       "    <tr>\n",
       "      <th>5</th>\n",
       "      <td>REGINALD A. WILKINSON, DIRECTOR, OHIO DEPARTME...</td>\n",
       "      <td>majority</td>\n",
       "      <td>2005-06-13</td>\n",
       "      <td>KENNEDY</td>\n",
       "      <td>1.0</td>\n",
       "      <td>['BREYER, STEPHEN', 'GINSBURG, RUTH', 'KENNEDY...</td>\n",
       "      <td>[]</td>\n",
       "      <td>4.0</td>\n",
       "      <td>4230.0</td>\n",
       "      <td>Justice Kennedy delivered the opinion of the C...</td>\n",
       "    </tr>\n",
       "  </tbody>\n",
       "</table>\n",
       "</div>"
      ],
      "text/plain": [
       "                                           case_name opinion_type  \\\n",
       "0                ERICK CORNELL CLAY v. UNITED STATES     majority   \n",
       "1  HILLSIDE DAIRY INC., A&A DAIRY, L&S DAIRY, AND...     majority   \n",
       "2    CHARLES RUSSELL RHINES v. DOUGLAS WEBER, WARDEN     majority   \n",
       "4        STATE OF ALASKA v. UNITED STATES OF AMERICA     majority   \n",
       "5  REGINALD A. WILKINSON, DIRECTOR, OHIO DEPARTME...     majority   \n",
       "\n",
       "  date_standard authorship  x_republican  \\\n",
       "0    2003-03-04   GINSBURG           0.0   \n",
       "1    2003-06-09    STEVENS           1.0   \n",
       "2    2005-03-30   O'CONNOR           1.0   \n",
       "4    2005-06-06    KENNEDY           1.0   \n",
       "5    2005-06-13    KENNEDY           1.0   \n",
       "\n",
       "                                          maj_judges  \\\n",
       "0  ['BREYER, STEPHEN', 'GINSBURG, RUTH', 'KENNEDY...   \n",
       "1  ['BREYER, STEPHEN', 'GINSBURG, RUTH', 'KENNEDY...   \n",
       "2  ['BREYER, STEPHEN', 'GINSBURG, RUTH', 'KENNEDY...   \n",
       "4  ['BREYER, STEPHEN', 'GINSBURG, RUTH', 'KENNEDY...   \n",
       "5  ['BREYER, STEPHEN', 'GINSBURG, RUTH', 'KENNEDY...   \n",
       "\n",
       "                                      dissent_judges  topic_id  cite_count  \\\n",
       "0                                                 []       1.0      2926.0   \n",
       "1                               ['THOMAS, CLARENCE']       8.0       117.0   \n",
       "2                                                 []       1.0     23364.0   \n",
       "4  ['REHNQUIST, WILLIAM', 'SCALIA, ANTONIN', 'THO...      10.0        84.0   \n",
       "5                                                 []       4.0      4230.0   \n",
       "\n",
       "                                        opinion_text  \n",
       "0  JUSTICE GINSBURG delivered the opinion of the ...  \n",
       "1  Justice Stevens delivered the opinion of the C...  \n",
       "2  Justice O'Connor delivered the opinion of the ...  \n",
       "4  Justice Kennedy delivered the opinion of the C...  \n",
       "5  Justice Kennedy delivered the opinion of the C...  "
      ]
     },
     "execution_count": 55,
     "metadata": {},
     "output_type": "execute_result"
    }
   ],
   "source": [
    "# drop missing\n",
    "df = df.dropna()\n",
    "df.head()"
   ]
  },
  {
   "cell_type": "code",
   "execution_count": 56,
   "metadata": {},
   "outputs": [
    {
     "data": {
      "text/plain": [
       "count        781\n",
       "unique        27\n",
       "top       SCALIA\n",
       "freq          86\n",
       "Name: authorship, dtype: object"
      ]
     },
     "execution_count": 56,
     "metadata": {},
     "output_type": "execute_result"
    }
   ],
   "source": [
    "# Number of label categories (e.g. judges)\n",
    "df['authorship'].describe()"
   ]
  },
  {
   "cell_type": "code",
   "execution_count": 57,
   "metadata": {},
   "outputs": [
    {
     "data": {
      "text/plain": [
       "SCALIA                                           86\n",
       "GINSBURG                                         81\n",
       "KENNEDY                                          79\n",
       "THOMAS                                           79\n",
       "BREYER                                           73\n",
       "STEVENS                                          72\n",
       "SOUTER                                           72\n",
       "O'CONNOR                                         52\n",
       "REHNQUIST                                        49\n",
       "ROBERTS                                          28\n",
       "ALITO                                            23\n",
       "Breyer                                           12\n",
       "Roberts                                          10\n",
       "Alito                                             9\n",
       "Scalia                                            8\n",
       "Thomas                                            8\n",
       "Ginsburg                                          8\n",
       "Stevens                                           7\n",
       "Kennedy                                           7\n",
       "SOTOMAYOR                                         6\n",
       "Souter                                            5\n",
       "STEVENS  AND  O'CONNOR ;  REHNQUIST ;  BREYER     2\n",
       "Sotomayor                                         1\n",
       "STEVENS  (IN PART),  BREYER  (IN PART)            1\n",
       "BREYER ;                                          1\n",
       "ROBERTS ,  SCALIA ,  THOMAS ,  ALITO              1\n",
       "JUSTICE  ALITO                                    1\n",
       "Name: authorship, dtype: int64"
      ]
     },
     "execution_count": 57,
     "metadata": {},
     "output_type": "execute_result"
    }
   ],
   "source": [
    "# tabulations of label categories \n",
    "df['authorship'].value_counts()"
   ]
  },
  {
   "cell_type": "code",
   "execution_count": 58,
   "metadata": {},
   "outputs": [],
   "source": [
    "df['authorship'] = df['authorship'].str.upper()"
   ]
  },
  {
   "cell_type": "code",
   "execution_count": 59,
   "metadata": {},
   "outputs": [
    {
     "data": {
      "text/plain": [
       "SCALIA                                           94\n",
       "GINSBURG                                         89\n",
       "THOMAS                                           87\n",
       "KENNEDY                                          86\n",
       "BREYER                                           85\n",
       "STEVENS                                          79\n",
       "SOUTER                                           77\n",
       "O'CONNOR                                         52\n",
       "REHNQUIST                                        49\n",
       "ROBERTS                                          38\n",
       "ALITO                                            32\n",
       "SOTOMAYOR                                         7\n",
       "STEVENS  AND  O'CONNOR ;  REHNQUIST ;  BREYER     2\n",
       "ROBERTS ,  SCALIA ,  THOMAS ,  ALITO              1\n",
       "BREYER ;                                          1\n",
       "STEVENS  (IN PART),  BREYER  (IN PART)            1\n",
       "JUSTICE  ALITO                                    1\n",
       "Name: authorship, dtype: int64"
      ]
     },
     "execution_count": 59,
     "metadata": {},
     "output_type": "execute_result"
    }
   ],
   "source": [
    "df['authorship'].value_counts()"
   ]
  },
  {
   "cell_type": "code",
   "execution_count": 60,
   "metadata": {},
   "outputs": [
    {
     "name": "stdout",
     "output_type": "stream",
     "text": [
      "['SCALIA', 'GINSBURG', 'THOMAS', 'KENNEDY', 'BREYER', 'STEVENS', 'SOUTER', \"O'CONNOR\", 'REHNQUIST', 'ROBERTS', 'ALITO']\n"
     ]
    }
   ],
   "source": [
    "# keep all judges through ALITO\n",
    "keep_judges = list(df['authorship'].value_counts().index)[:11]\n",
    "print(keep_judges)"
   ]
  },
  {
   "cell_type": "code",
   "execution_count": 61,
   "metadata": {},
   "outputs": [
    {
     "data": {
      "text/plain": [
       "SCALIA       94\n",
       "GINSBURG     89\n",
       "THOMAS       87\n",
       "KENNEDY      86\n",
       "BREYER       85\n",
       "STEVENS      79\n",
       "SOUTER       77\n",
       "O'CONNOR     52\n",
       "REHNQUIST    49\n",
       "ROBERTS      38\n",
       "ALITO        32\n",
       "Name: authorship, dtype: int64"
      ]
     },
     "execution_count": 61,
     "metadata": {},
     "output_type": "execute_result"
    }
   ],
   "source": [
    "df = df[df['authorship'].isin(keep_judges)]\n",
    "df['authorship'].value_counts()"
   ]
  },
  {
   "cell_type": "code",
   "execution_count": 62,
   "metadata": {},
   "outputs": [
    {
     "data": {
      "text/plain": [
       "0      2003-03-04\n",
       "1      2003-06-09\n",
       "2      2005-03-30\n",
       "4      2005-06-06\n",
       "5      2005-06-13\n",
       "          ...    \n",
       "815    2001-04-18\n",
       "816    2001-04-24\n",
       "817    2001-04-24\n",
       "818    2001-05-14\n",
       "819    2001-05-14\n",
       "Name: date_standard, Length: 768, dtype: object"
      ]
     },
     "execution_count": 62,
     "metadata": {},
     "output_type": "execute_result"
    }
   ],
   "source": [
    "df.date_standard"
   ]
  },
  {
   "cell_type": "code",
   "execution_count": 63,
   "metadata": {},
   "outputs": [
    {
     "data": {
      "text/plain": [
       "0     2003-03-04\n",
       "1     2003-06-09\n",
       "2     2005-03-30\n",
       "4     2005-06-06\n",
       "5     2005-06-13\n",
       "         ...    \n",
       "815   2001-04-18\n",
       "816   2001-04-24\n",
       "817   2001-04-24\n",
       "818   2001-05-14\n",
       "819   2001-05-14\n",
       "Name: date_standard, Length: 768, dtype: datetime64[ns]"
      ]
     },
     "execution_count": 63,
     "metadata": {},
     "output_type": "execute_result"
    }
   ],
   "source": [
    "df['date_standard'] = pd.to_datetime(df['date_standard'])\n",
    "df['date_standard']"
   ]
  },
  {
   "cell_type": "code",
   "execution_count": 64,
   "metadata": {},
   "outputs": [
    {
     "data": {
      "text/plain": [
       "2001    77\n",
       "2000    76\n",
       "2009    74\n",
       "2002    74\n",
       "2004    73\n",
       "2005    70\n",
       "2003    70\n",
       "2007    65\n",
       "2010    64\n",
       "2006    63\n",
       "2008    62\n",
       "Name: year, dtype: int64"
      ]
     },
     "execution_count": 64,
     "metadata": {},
     "output_type": "execute_result"
    }
   ],
   "source": [
    "df['year'] = df['date_standard'].dt.year\n",
    "df['year'].value_counts()"
   ]
  },
  {
   "cell_type": "code",
   "execution_count": 65,
   "metadata": {},
   "outputs": [
    {
     "data": {
      "text/plain": [
       "<matplotlib.axes._subplots.AxesSubplot at 0x7fe0f273ce10>"
      ]
     },
     "execution_count": 65,
     "metadata": {},
     "output_type": "execute_result"
    },
    {
     "data": {
      "image/png": "[encoded data removed]",
      "text/plain": [
       "<Figure size 432x288 with 1 Axes>"
      ]
     },
     "metadata": {
      "needs_background": "light"
     },
     "output_type": "display_data"
    }
   ],
   "source": [
    "df['cite_count'].hist()"
   ]
  },
  {
   "cell_type": "code",
   "execution_count": 66,
   "metadata": {},
   "outputs": [
    {
     "data": {
      "text/plain": [
       "<matplotlib.axes._subplots.AxesSubplot at 0x7fe0f274ac10>"
      ]
     },
     "execution_count": 66,
     "metadata": {},
     "output_type": "execute_result"
    },
    {
     "data": {
      "image/png": "[encoded data removed]",
      "text/plain": [
       "<Figure size 432x288 with 1 Axes>"
      ]
     },
     "metadata": {
      "needs_background": "light"
     },
     "output_type": "display_data"
    }
   ],
   "source": [
    "import numpy as np\n",
    "df['log_cite_count'] = np.log(df['cite_count'])\n",
    "df['log_cite_count'].hist()"
   ]
  },
  {
   "cell_type": "markdown",
   "metadata": {},
   "source": [
    "Save what we have done so far."
   ]
  },
  {
   "cell_type": "code",
   "execution_count": 67,
   "metadata": {},
   "outputs": [],
   "source": [
    "df.to_pickle('sc_cases_cleaned.pkl',compression='gzip')"
   ]
  },
  {
   "cell_type": "markdown",
   "metadata": {},
   "source": [
    "## Iterating over documents in a dataframe"
   ]
  },
  {
   "cell_type": "code",
   "execution_count": 68,
   "metadata": {},
   "outputs": [],
   "source": [
    "import nltk\n",
    "\n",
    "# run these if you have not yet:\n",
    "#nltk.download('stopwords') \n",
    "#nltk.download('punkt') "
   ]
  },
  {
   "cell_type": "code",
   "execution_count": 69,
   "metadata": {},
   "outputs": [],
   "source": [
    "from gensim.utils import simple_preprocess\n",
    "\n",
    "processed = {} # empty python dictionary for processed data\n",
    "# iterate over rows\n",
    "for i, row in df.iterrows():\n",
    "    docid = i # make document identifier\n",
    "    text = row['opinion_text']     # get text snippet\n",
    "    document = simple_preprocess(text) # get sentences/tokens\n",
    "    processed[docid] = document # add to dictionary    \n",
    "    if i > 100:\n",
    "        break"
   ]
  },
  {
   "cell_type": "code",
   "execution_count": 70,
   "metadata": {},
   "outputs": [
    {
     "data": {
      "text/plain": [
       "(['justice',\n",
       "  'ginsburg',\n",
       "  'delivered',\n",
       "  'the',\n",
       "  'opinion',\n",
       "  'of',\n",
       "  'the',\n",
       "  'court',\n",
       "  'motion',\n",
       "  'by'],\n",
       " ['justice',\n",
       "  'stevens',\n",
       "  'delivered',\n",
       "  'the',\n",
       "  'opinion',\n",
       "  'of',\n",
       "  'the',\n",
       "  'court',\n",
       "  'in',\n",
       "  'most'])"
      ]
     },
     "execution_count": 70,
     "metadata": {},
     "output_type": "execute_result"
    }
   ],
   "source": [
    "# first and second opinions\n",
    "processed[0][:10], processed[1][:10]"
   ]
  },
  {
   "cell_type": "markdown",
   "metadata": {},
   "source": [
    "## Saving data"
   ]
  },
  {
   "cell_type": "code",
   "execution_count": 71,
   "metadata": {},
   "outputs": [],
   "source": [
    "# save as python pickle\n",
    "pd.to_pickle(processed, 'processed_corpus.pkl')\n",
    "# delete it\n",
    "import os \n",
    "os.remove('processed_corpus.pkl')"
   ]
  },
  {
   "cell_type": "code",
   "execution_count": 72,
   "metadata": {},
   "outputs": [],
   "source": [
    "# Merging Data-frames Example\n",
    "# Perform a left join:\n",
    "# df_merged = pd.merge(df1,df2,on='id', how='left', validation='m:1')"
   ]
  },
  {
   "cell_type": "markdown",
   "metadata": {},
   "source": [
    "# Web Scraping"
   ]
  },
  {
   "cell_type": "markdown",
   "metadata": {},
   "source": [
    "## Downloading URL's"
   ]
  },
  {
   "cell_type": "code",
   "execution_count": 73,
   "metadata": {},
   "outputs": [
    {
     "name": "stdout",
     "output_type": "stream",
     "text": [
      "b'<!DOCTYPE html>\\n<html lang=\"en\">\\n<head>\\n  <meta charset=\"utf-8\"/>\\n  <meta http-equiv=\"Content-Language\" content=\"en\"/>\\n  <meta name=\"language\" content=\"en_us\"/>\\n  <meta name=\"viewport\" content=\"width=device-width,initial-scale=1\"/>\\n\\n  \\n  <meta name=\"description\" content=\"Opinion for People v. Germany, 674 P.2d 345 \\xe2\\x80\\x94 Brought to you by Free Law Project, a non-profit dedicated to creating high qual'\n",
      "\n",
      "b'     s = d.getElementsByTagName(\\'script\\')[0];\\n      g.type = \\'text/javascript\\';\\n      g.async = true;\\n      g.defer = true;\\n      g.src = u + \\'matomo.js\\';\\n      s.parentNode.insertBefore(g, s);\\n    })();\\n  </script>\\n  <noscript><p><img src=\"//matomo.courtlistener.com/piwik.php?idsite=1&rec=1\"\\n                    style=\"border:0;\" alt=\"\"/></p></noscript>\\n  <!-- End Matomo Code -->\\n\\n</body>\\n</html>\\n'\n",
      "\n",
      "77373 characters in string.\n"
     ]
    }
   ],
   "source": [
    "import urllib # Python's module for accessing web pages\n",
    "url = 'https://goo.gl/VRF8Xs' # shortened URL for court case\n",
    "page = urllib.request.urlopen(url) # open the web page\n",
    "\n",
    "html = page.read() # read web page contents as a string\n",
    "print(html[:400])  # print first 400 characters\n",
    "print()\n",
    "print(html[-400:]) # print last 400 characters\n",
    "print()\n",
    "print(len(html),'characters in string.')   # print length of string"
   ]
  },
  {
   "cell_type": "markdown",
   "metadata": {},
   "source": [
    "## Parsing HTML"
   ]
  },
  {
   "cell_type": "code",
   "execution_count": 74,
   "metadata": {},
   "outputs": [
    {
     "name": "stdout",
     "output_type": "stream",
     "text": [
      "<title>People v. Germany, 674 P.2d 345 – CourtListener.com</title>\n"
     ]
    }
   ],
   "source": [
    "# Parse raw HTML\n",
    "# !pip install beautifulsoup4\n",
    "from bs4 import BeautifulSoup # package for parsing HTML\n",
    "soup = BeautifulSoup(html, 'lxml') # parse html of web page\n",
    "print(soup.title) # example usage: print title item"
   ]
  },
  {
   "cell_type": "code",
   "execution_count": 75,
   "metadata": {},
   "outputs": [
    {
     "name": "stdout",
     "output_type": "stream",
     "text": [
      "534\n"
     ]
    }
   ],
   "source": [
    "# extract text\n",
    "text = soup.get_text() # get text (remove HTML markup)\n",
    "lines = text.splitlines() # split string into separate lines\n",
    "print(len(lines)) # print number of lines"
   ]
  },
  {
   "cell_type": "code",
   "execution_count": 76,
   "metadata": {},
   "outputs": [
    {
     "name": "stdout",
     "output_type": "stream",
     "text": [
      "199\n"
     ]
    }
   ],
   "source": [
    "lines = [line for line in lines if line != ''] # drop empty lines\n",
    "print(len(lines)) # print number of lines"
   ]
  },
  {
   "cell_type": "code",
   "execution_count": 77,
   "metadata": {},
   "outputs": [
    {
     "name": "stdout",
     "output_type": "stream",
     "text": [
      "['People v. Germany, 674 P.2d 345 – CourtListener.com', 'Toggle navigation', 'About', 'FAQ', 'Donate', 'Sign in / Register', 'From Free Law Project, a 501(c)(3) non-profit.', 'Opinions\\xa0', 'Advanced Search', 'Citation Look Up', 'RECAP Archive', 'Oral Arguments', 'Judges', 'Visualizations\\xa0', 'Gallery', 'SCOTUS Networks', 'New Network', '\\xa0Donate', 'Your Notes', '                    (edit)']\n"
     ]
    }
   ],
   "source": [
    "print(lines[:20]) # print first 20 lines"
   ]
  },
  {
   "cell_type": "markdown",
   "metadata": {},
   "source": [
    "## Removing unicode characters"
   ]
  },
  {
   "cell_type": "code",
   "execution_count": 78,
   "metadata": {},
   "outputs": [
    {
     "name": "stdout",
     "output_type": "stream",
     "text": [
      "['Visualizations\\xa0'] ['Visualizations ']\n"
     ]
    }
   ],
   "source": [
    "# !pip install unidecode\n",
    "from unidecode import unidecode # package for removing unicode\n",
    "uncode_str = 'Visualizations\\xa0'\n",
    "fixed = unidecode(uncode_str) # example usage\n",
    "print([uncode_str],[fixed]) # print cleaned string (replaced with a space)"
   ]
  },
  {
   "cell_type": "markdown",
   "metadata": {},
   "source": [
    "## Translation"
   ]
  },
  {
   "cell_type": "code",
   "execution_count": 79,
   "metadata": {},
   "outputs": [
    {
     "data": {
      "text/plain": [
       "'ko'"
      ]
     },
     "execution_count": 79,
     "metadata": {},
     "output_type": "execute_result"
    }
   ],
   "source": [
    "# !pip install googletrans\n",
    "from googletrans import Translator\n",
    "translator = Translator()\n",
    "lang = translator.detect('이 문장은 한글로 쓰여졌습니다.').lang\n",
    "lang"
   ]
  },
  {
   "cell_type": "code",
   "execution_count": 80,
   "metadata": {},
   "outputs": [
    {
     "data": {
      "text/plain": [
       "'This sentence is written in Hangul.'"
      ]
     },
     "execution_count": 80,
     "metadata": {},
     "output_type": "execute_result"
    }
   ],
   "source": [
    "eng = translator.translate('이 문장은 한글로 쓰여졌습니다.',\n",
    "                           src=lang,\n",
    "                           dest='en')\n",
    "eng.text"
   ]
  },
  {
   "cell_type": "markdown",
   "metadata": {},
   "source": [
    "# Quantity of Text"
   ]
  },
  {
   "cell_type": "markdown",
   "metadata": {},
   "source": [
    "Count words per document."
   ]
  },
  {
   "cell_type": "code",
   "execution_count": 81,
   "metadata": {},
   "outputs": [
    {
     "data": {
      "text/plain": [
       "<matplotlib.axes._subplots.AxesSubplot at 0x7fe0f23a4790>"
      ]
     },
     "execution_count": 81,
     "metadata": {},
     "output_type": "execute_result"
    },
    {
     "data": {
      "image/png": "[encoded data removed]",
      "text/plain": [
       "<Figure size 432x288 with 1 Axes>"
      ]
     },
     "metadata": {
      "needs_background": "light"
     },
     "output_type": "display_data"
    }
   ],
   "source": [
    "def get_words_per_doc(txt):\n",
    "    # split text into words and count them.\n",
    "    return len(txt.split()) \n",
    "\n",
    "# apply to our dataframe\n",
    "df['num_words'] = df['opinion_text'].apply(get_words_per_doc)\n",
    "df['num_words'].hist()"
   ]
  },
  {
   "cell_type": "code",
   "execution_count": 82,
   "metadata": {},
   "outputs": [
    {
     "data": {
      "image/png": "[encoded data removed]",
      "text/plain": [
       "<Figure size 432x288 with 1 Axes>"
      ]
     },
     "metadata": {
      "needs_background": "light"
     },
     "output_type": "display_data"
    }
   ],
   "source": [
    "# plot length by year\n",
    "ax = df.groupby('year')['num_words'].mean().plot()\n",
    "ax.set_ylabel('Average Opinion Length')\n",
    "import matplotlib.pyplot as plt\n",
    "plt.show()"
   ]
  },
  {
   "cell_type": "code",
   "execution_count": 206,
   "metadata": {},
   "outputs": [
    {
     "data": {
      "text/plain": [
       "<seaborn.axisgrid.JointGrid at 0x7fe0e4c6ef50>"
      ]
     },
     "execution_count": 206,
     "metadata": {},
     "output_type": "execute_result"
    },
    {
     "data": {
      "image/png": "[encoded data removed]",
      "text/plain": [
       "<Figure size 432x432 with 3 Axes>"
      ]
     },
     "metadata": {
      "needs_background": "light"
     },
     "output_type": "display_data"
    }
   ],
   "source": [
    "df['log_words'] = np.log(df['num_words'])\n",
    "import seaborn as sns\n",
    "sns.jointplot(data=df,x='year', y='log_words',kind='hex')"
   ]
  },
  {
   "cell_type": "markdown",
   "metadata": {},
   "source": [
    "Build a frequency distribution over words with `Counter`."
   ]
  },
  {
   "cell_type": "code",
   "execution_count": 83,
   "metadata": {},
   "outputs": [
    {
     "data": {
      "text/plain": [
       "[('the', 31600),\n",
       " ('of', 15978),\n",
       " ('to', 12330),\n",
       " ('a', 8954),\n",
       " ('that', 8521),\n",
       " ('in', 8324),\n",
       " ('and', 7619),\n",
       " ('at', 5044),\n",
       " ('for', 4496),\n",
       " ('is', 4032),\n",
       " ('not', 3577),\n",
       " ('l.', 3216),\n",
       " ('ed.', 3190),\n",
       " ('as', 3048),\n",
       " ('or', 2904),\n",
       " ('s.', 2828),\n",
       " ('§', 2738),\n",
       " ('ct.', 2735),\n",
       " ('court', 2615),\n",
       " ('on', 2587)]"
      ]
     },
     "execution_count": 83,
     "metadata": {},
     "output_type": "execute_result"
    }
   ],
   "source": [
    "from collections import Counter\n",
    "freqs = Counter()\n",
    "for i, row in df.iterrows():\n",
    "    freqs.update(row['opinion_text'].lower().split())\n",
    "    if i > 100:\n",
    "        break\n",
    "freqs.most_common()[:20] # can use most frequent words as style/function words"
   ]
  },
  {
   "cell_type": "markdown",
   "metadata": {},
   "source": [
    "Compute (Number of documents) / (number of words per document). The google text classification guide recommends using N-Grams if this number is below 1500, or embedded sequences if this number is above 1500:"
   ]
  },
  {
   "cell_type": "code",
   "execution_count": 84,
   "metadata": {},
   "outputs": [
    {
     "name": "stdout",
     "output_type": "stream",
     "text": [
      "0.14378176483594116\n"
     ]
    }
   ],
   "source": [
    "print(df.shape[0] / df['num_words'].mean())"
   ]
  },
  {
   "cell_type": "markdown",
   "metadata": {
    "toc-hr-collapsed": false
   },
   "source": [
    "# Dictionary / Matching Methods"
   ]
  },
  {
   "cell_type": "markdown",
   "metadata": {},
   "source": [
    "## Sentiment Analysis"
   ]
  },
  {
   "cell_type": "code",
   "execution_count": 85,
   "metadata": {},
   "outputs": [
    {
     "name": "stdout",
     "output_type": "stream",
     "text": [
      "{'neg': 0.134, 'neu': 0.785, 'pos': 0.081, 'compound': -0.9999}\n"
     ]
    }
   ],
   "source": [
    "# Dictionary-Based Sentiment Analysis\n",
    "# nltk.download('vader_lexicon')\n",
    "\n",
    "from nltk.sentiment.vader import SentimentIntensityAnalyzer\n",
    "sid = SentimentIntensityAnalyzer()\n",
    "polarity = sid.polarity_scores(text)\n",
    "print(polarity)"
   ]
  },
  {
   "cell_type": "code",
   "execution_count": 86,
   "metadata": {},
   "outputs": [],
   "source": [
    "# sample 20% of the dataset\n",
    "dfs = df.sample(frac=.2) \n",
    "\n",
    "# apply compound sentiment score to data-frame\n",
    "def get_sentiment(snippet):\n",
    "    return sid.polarity_scores(snippet)['compound']\n",
    "dfs['sentiment'] = dfs['opinion_text'].apply(get_sentiment)"
   ]
  },
  {
   "cell_type": "code",
   "execution_count": 87,
   "metadata": {},
   "outputs": [
    {
     "data": {
      "text/plain": [
       "['he Court.\\n\\nPetitioners are the Boy Scouts of America and the Monmouth Council, a division of the Boy',\n",
       " 't.\\n\\nIn the latest chapter of this long-litigated original-jurisdiction case, the Quechan Tribe (Trib',\n",
       " '\\nWe granted certiorari in this case to decide whether imposing class arbitration on parties whose ar',\n",
       " 't. \\n\\n This case requires us to decide whether the use of race as a factor in student admissions by t',\n",
       " ' Court. \\n\\nThe International Court of Justice (ICJ), located in the Hague, is a tribunal established ']"
      ]
     },
     "execution_count": 87,
     "metadata": {},
     "output_type": "execute_result"
    }
   ],
   "source": [
    "dfs.sort_values('sentiment',inplace=True)\n",
    "# print beginning of most positive documents\n",
    "[x[50:150] for x  in dfs[-5:]['opinion_text']]"
   ]
  },
  {
   "cell_type": "code",
   "execution_count": 88,
   "metadata": {},
   "outputs": [
    {
     "data": {
      "text/plain": [
       "[' \\n\\n  Federal immigration law provides that any \"alien who is convicted of an aggravated felony at an',\n",
       " ' \\n\\n A section of Title 18 of the United States Code (called the Hobbs Act) says that an individual c',\n",
       " '. \\n\\n This case requires us to address, for the second time in a decade and a half, whether it is per',\n",
       " 'he Court. \\n\\n Petitioner Josue Leocal, a Haitian citizen who is a lawful permanent resident of the Un',\n",
       " '.\\n\\nWe address once again the measure of punishment, by means of punitive damages, a State may impose']"
      ]
     },
     "execution_count": 88,
     "metadata": {},
     "output_type": "execute_result"
    }
   ],
   "source": [
    "# print beginning of most negative documents\n",
    "[x[50:150] for x  in dfs[:5]['opinion_text']]"
   ]
  },
  {
   "cell_type": "markdown",
   "metadata": {},
   "source": [
    "## StopWords"
   ]
  },
  {
   "cell_type": "code",
   "execution_count": 259,
   "metadata": {
    "scrolled": true
   },
   "outputs": [
    {
     "data": {
      "text/plain": [
       "{'a',\n",
       " 'about',\n",
       " 'above',\n",
       " 'after',\n",
       " 'again',\n",
       " 'against',\n",
       " 'ain',\n",
       " 'all',\n",
       " 'am',\n",
       " 'an',\n",
       " 'and',\n",
       " 'any',\n",
       " 'are',\n",
       " 'aren',\n",
       " \"aren't\",\n",
       " 'as',\n",
       " 'at',\n",
       " 'be',\n",
       " 'because',\n",
       " 'been',\n",
       " 'before',\n",
       " 'being',\n",
       " 'below',\n",
       " 'between',\n",
       " 'both',\n",
       " 'but',\n",
       " 'by',\n",
       " 'can',\n",
       " 'couldn',\n",
       " \"couldn't\",\n",
       " 'd',\n",
       " 'did',\n",
       " 'didn',\n",
       " \"didn't\",\n",
       " 'do',\n",
       " 'does',\n",
       " 'doesn',\n",
       " \"doesn't\",\n",
       " 'doing',\n",
       " 'don',\n",
       " \"don't\",\n",
       " 'down',\n",
       " 'during',\n",
       " 'each',\n",
       " 'few',\n",
       " 'for',\n",
       " 'from',\n",
       " 'further',\n",
       " 'had',\n",
       " 'hadn',\n",
       " \"hadn't\",\n",
       " 'has',\n",
       " 'hasn',\n",
       " \"hasn't\",\n",
       " 'have',\n",
       " 'haven',\n",
       " \"haven't\",\n",
       " 'having',\n",
       " 'he',\n",
       " 'her',\n",
       " 'here',\n",
       " 'hers',\n",
       " 'herself',\n",
       " 'him',\n",
       " 'himself',\n",
       " 'his',\n",
       " 'how',\n",
       " 'i',\n",
       " 'if',\n",
       " 'in',\n",
       " 'into',\n",
       " 'is',\n",
       " 'isn',\n",
       " \"isn't\",\n",
       " 'it',\n",
       " \"it's\",\n",
       " 'its',\n",
       " 'itself',\n",
       " 'just',\n",
       " 'll',\n",
       " 'm',\n",
       " 'ma',\n",
       " 'me',\n",
       " 'mightn',\n",
       " \"mightn't\",\n",
       " 'more',\n",
       " 'most',\n",
       " 'mustn',\n",
       " \"mustn't\",\n",
       " 'my',\n",
       " 'myself',\n",
       " 'needn',\n",
       " \"needn't\",\n",
       " 'no',\n",
       " 'nor',\n",
       " 'not',\n",
       " 'now',\n",
       " 'o',\n",
       " 'of',\n",
       " 'off',\n",
       " 'on',\n",
       " 'once',\n",
       " 'only',\n",
       " 'or',\n",
       " 'other',\n",
       " 'our',\n",
       " 'ours',\n",
       " 'ourselves',\n",
       " 'out',\n",
       " 'over',\n",
       " 'own',\n",
       " 're',\n",
       " 's',\n",
       " 'same',\n",
       " 'shan',\n",
       " \"shan't\",\n",
       " 'she',\n",
       " \"she's\",\n",
       " 'should',\n",
       " \"should've\",\n",
       " 'shouldn',\n",
       " \"shouldn't\",\n",
       " 'so',\n",
       " 'some',\n",
       " 'such',\n",
       " 't',\n",
       " 'than',\n",
       " 'that',\n",
       " \"that'll\",\n",
       " 'the',\n",
       " 'their',\n",
       " 'theirs',\n",
       " 'them',\n",
       " 'themselves',\n",
       " 'then',\n",
       " 'there',\n",
       " 'these',\n",
       " 'they',\n",
       " 'this',\n",
       " 'those',\n",
       " 'through',\n",
       " 'to',\n",
       " 'too',\n",
       " 'under',\n",
       " 'until',\n",
       " 'up',\n",
       " 've',\n",
       " 'very',\n",
       " 'was',\n",
       " 'wasn',\n",
       " \"wasn't\",\n",
       " 'we',\n",
       " 'were',\n",
       " 'weren',\n",
       " \"weren't\",\n",
       " 'what',\n",
       " 'when',\n",
       " 'where',\n",
       " 'which',\n",
       " 'while',\n",
       " 'who',\n",
       " 'whom',\n",
       " 'why',\n",
       " 'will',\n",
       " 'with',\n",
       " 'won',\n",
       " \"won't\",\n",
       " 'wouldn',\n",
       " \"wouldn't\",\n",
       " 'y',\n",
       " 'you',\n",
       " \"you'd\",\n",
       " \"you'll\",\n",
       " \"you're\",\n",
       " \"you've\",\n",
       " 'your',\n",
       " 'yours',\n",
       " 'yourself',\n",
       " 'yourselves'}"
      ]
     },
     "execution_count": 259,
     "metadata": {},
     "output_type": "execute_result"
    }
   ],
   "source": [
    "from nltk.corpus import stopwords\n",
    "stopwords = set(stopwords.words('english'))\n",
    "stopwords"
   ]
  },
  {
   "cell_type": "code",
   "execution_count": 260,
   "metadata": {},
   "outputs": [
    {
     "data": {
      "text/plain": [
       "174132"
      ]
     },
     "execution_count": 260,
     "metadata": {},
     "output_type": "execute_result"
    }
   ],
   "source": [
    "stopfreq = np.sum([freqs[x] for x in stopwords])\n",
    "stopfreq"
   ]
  },
  {
   "cell_type": "code",
   "execution_count": 262,
   "metadata": {},
   "outputs": [
    {
     "data": {
      "text/plain": [
       "323910"
      ]
     },
     "execution_count": 262,
     "metadata": {},
     "output_type": "execute_result"
    }
   ],
   "source": [
    "otherfreq = np.sum([freqs[x] for x in freqs if x not in stopwords])\n",
    "otherfreq"
   ]
  },
  {
   "cell_type": "markdown",
   "metadata": {},
   "source": [
    "## RegEx"
   ]
  },
  {
   "cell_type": "markdown",
   "metadata": {},
   "source": [
    "Please refer to [RegExOne Regular Expressions Lessons](regexone.com) and [the python documentation](https://docs.python.org/3/howto/regex.html)."
   ]
  },
  {
   "cell_type": "code",
   "execution_count": 146,
   "metadata": {},
   "outputs": [
    {
     "name": "stdout",
     "output_type": "stream",
     "text": [
      "['Justice Breyer ']\n",
      "['Justice Breyer ', 'Justice Alito ']\n",
      "['Justice Kennedy ', 'justice that ']\n",
      "['Justice Rehnquist ']\n",
      "['JUSTICE KENNEDY ']\n"
     ]
    }
   ],
   "source": [
    "import re\n",
    "\n",
    "docs = dfs[:5]['opinion_text']\n",
    "\n",
    "# Extract words after justice.\n",
    "for doc in docs:    \n",
    "    print(re.findall(r'Justice \\w+ ', # pattern to match. always put 'r' in front of string so that backslashes are treated literally.\n",
    "                     doc,            # string\n",
    "                     re.IGNORECASE))  # ignore upper/lowercase (optional)"
   ]
  },
  {
   "cell_type": "code",
   "execution_count": 147,
   "metadata": {},
   "outputs": [
    {
     "name": "stdout",
     "output_type": "stream",
     "text": [
      "['fact-based', 'Arguelles-Olivares', 'Dulal-Whiteway', 'circumstance-specific', 'firearm-law', 'five-word', 'circumstance-specific', 'Estrada-Espinoza', 'circumstance-specific', 'circumstance-specific', 'circumstance-specific', 'tax-evasion', 'circumstance-specific', 'circumstance-specific', 'judge-approved', 'judge-made', 'sentencing-related']\n",
      "['pro-life', 'anti-abortion', 'pro-choice', 'pro-choice', 'pro-life', 'pro-life', 'clinic-related', 'extortion-related', 'extortion-related', 'extortion-related', 'Allied-Bruce', 'Anti-Racketeering', 'Anti-Racketeering', 'non-property', 'Anti-Racketeering', 'bona-fide', 'bona-fide', 'bona-fide', 'bona-fide', 'Anti-Racketeering']\n",
      "['Anglo-American', 'year-old', 'cost-benefit', 'year-old', 'year-old', 'year-old', 'ill-considered', 'year-old', 'B-D', 'cost-benefit', 'case-by', 'cold-blooded', 'Anglo-American', 'present-day', 'self-definition', 'Twenty-Sixth']\n",
      "['Anti-Drug', 'Puente-Salazar', 'Puente-Salazar', 'Trinidad-Aquino', 'Bazan-Reyes', 'Chapa-Garza', 'Trinidad-Aquino', 'third-degree', 'Trinidad-Aquino', 'Bazan-Reyes', 'career-offender', 'Lucio-Lucio', 'Bazan-Reyes', 'Lucio-Lucio', 'DUI-causing', 'DUI-causing', 'DUI-causing']\n",
      "['two-lane', 'head-on', 'out-of', 'nation-wide', 'third-party', 'common-law', 'near-certain', 'for-sale', 'out-of', 'extra-territorial', 'out-of', 'out-of', 'out-of', 'third-party', 'third-party', 'first-party', 'bright-line', 'single-digit', 'Single-digit', 'out-of', 'first-party', 'well-established', 'open-ended', 'out-of']\n"
     ]
    }
   ],
   "source": [
    "# Extract hyphenated words\n",
    "for doc in docs:    \n",
    "    print(re.findall(r'[a-z]+-[a-z]+', \n",
    "                     doc,            \n",
    "                     re.IGNORECASE))  "
   ]
  },
  {
   "cell_type": "code",
   "execution_count": 148,
   "metadata": {
    "scrolled": true
   },
   "outputs": [
    {
     "name": "stdout",
     "output_type": "stream",
     "text": [
      "0 (1012, 1024) 495 U.S. 575\n",
      "0 (2669, 2681) 523 F.3d 387\n",
      "0 (3248, 3259) 461 F.3d 45\n",
      "0 (3261, 3273) 55 (CA1 2006\n",
      "0 (3298, 3310) 523 F.3d 387\n",
      "0 (3363, 3375) 526 F.3d 171\n",
      "0 (3377, 3390) 178 (CA5 2008\n",
      "0 (3461, 3473) 501 F.3d 116\n",
      "0 (3475, 3488) 131 (CA2 2007\n",
      "0 (3537, 3550) 530 F.3d 1111\n",
      "0 (3552, 3566) 1117 (CA9 2008\n",
      "0 (3614, 3626) 479 F.3d 785\n",
      "0 (3628, 3642) 791 (CA11 2007\n",
      "0 (4129, 4141) 555 U.S. 122\n",
      "0 (5037, 5049) 550 U.S. 192\n",
      "0 (7597, 7610) 16 (West 2006\n",
      "0 (8181, 8192) 544 U.S. 13\n",
      "0 (10589, 10602) 546 F.3d 1147\n",
      "0 (10604, 10618) 1152 (CA9 2008\n",
      "0 (10704, 10716) 383 F.3d 144\n",
      "0 (10718, 10731) 164 (CA3 2004\n",
      "0 (10761, 10773) 436 F.3d 323\n",
      "0 (10795, 10807) 51 (CA2 2005\n",
      "0 (10926, 10937) 339 F.3d 91\n",
      "0 (10942, 10954) 96 (CA2 2003\n",
      "0 (11011, 11023) 544 F.3d 862\n",
      "0 (11029, 11042) 872 (CA7 2008\n",
      "0 (11072, 11084) 236 F.3d 130\n",
      "0 (11086, 11099) 136 (CA3 2001\n",
      "0 (13133, 13146) 2421 and 2422\n",
      "0 (13225, 13237) 544 F.3d 137\n",
      "0 (13243, 13256) 145 (CA2 2008\n",
      "0 (14825, 14836) 546 U.S. 21\n",
      "0 (16559, 16573) 110 Stat. 3009\n",
      "0 (17100, 17112) 555 U.S. 415\n",
      "0 (21331, 21342) 456 F.3d 88\n",
      "0 (21344, 21357) 107 (CA3 2006\n",
      "0 (21513, 21525) 429 F.3d 733\n",
      "0 (21531, 21544) 740 (CA7 2005\n",
      "0 (25566, 25578) 1585 or 1588\n",
      "0 (25888, 25900) 2381 or 2382\n",
      "0 (29681, 29694) 21 U.S.C. 801\n",
      "0 (29754, 29767) 21 U.S.C. 951\n",
      "0 (30109, 30122) 21 U.S.C. 802\n",
      "0 (31173, 31187) 110 Stat. 3009\n",
      "0 (31823, 31838) 103 (Supp. 1995\n",
      "0 (31846, 31859) 203 (1993), 5\n",
      "0 (31941, 31955) 487 (West 1985\n",
      "0 (32163, 32179) 2403 (Lexis 1987\n",
      "0 (32371, 32383) 1 (West 1997\n",
      "0 (33175, 33188) 20 (West 1996\n",
      "0 (33267, 33281) 13 (Lexis 1993\n",
      "0 (33331, 33346) 1451 (West 1991\n",
      "0 (33393, 33405) 3 (West 1991\n",
      "0 (33519, 33536) 4111 (1983), 4117\n",
      "0 (33736, 33749) 29 (1994), 11\n",
      "0 (33753, 33767) 30 (Supp. 1999\n",
      "0 (33911, 33925) 17 (Supp. 1997\n",
      "0 (34000, 34016) 1801 (Lexis 1996\n",
      "0 (34168, 34183) 195 (Lexis 1996\n",
      "0 (34235, 34248) 020 (1994), 9\n",
      "0 (34253, 34268) 030 (Supp. 2005\n",
      "0 (35227, 35242) 2109 (West 2000\n",
      "0 (35432, 35447) 2206 (West 1989\n",
      "0 (35564, 35579) 401 (Supp. 1996\n",
      "0 (36008, 36021) 5 (Lexis 1994\n",
      "0 (36439, 36456) 3 (deception), 35\n",
      "0 (36462, 36474) 4 (West 1993\n",
      "0 (36666, 36681) 3701 (1995), 21\n",
      "0 (36682, 36698) 3707 (Supp. 1996\n",
      "0 (36704, 36719) 3729 (1995), 21\n",
      "0 (36720, 36736) 3846 (Supp. 1996\n",
      "0 (36889, 36902) 17 (West 1995\n",
      "0 (37092, 37104) 6 (1994), 30\n",
      "0 (37108, 37121) 13 (1997), 30\n",
      "0 (37125, 37137) 7 (1989), 30\n",
      "0 (37297, 37310) 05 (West 1988\n",
      "0 (37625, 37639) 48 (Lexis 1996\n",
      "0 (37699, 37712) 02 (West 1994\n",
      "0 (38182, 38196) 122 (West 1994\n",
      "0 (38334, 38349) 012 (1994), 812\n",
      "0 (38564, 38576) 1 (West 1995\n",
      "0 (38873, 38885) 2 (West 1993\n",
      "0 (38892, 38904) 8 (West 1993\n",
      "0 (38936, 38948) 9 (West 1993\n",
      "0 (39235, 39249) 05 (Lexis 1997\n",
      "0 (39445, 39458) 1991 and 1995\n",
      "1 (2982, 2994) 968 F.2d 612\n",
      "1 (3221, 3233) 510 U.S. 249\n",
      "1 (3588, 3600) 267 F.3d 687\n",
      "1 (3689, 3701) 537 U.S. 393\n",
      "1 (9304, 9316) 513 U.S. 265\n",
      "1 (9390, 9402) 471 U.S. 858\n",
      "1 (9621, 9633) 529 U.S. 848\n",
      "1 (10188, 10200) 48 Stat. 979\n",
      "1 (10408, 10420) 48 Stat. 980\n",
      "1 (11187, 11199) 60 Stat. 420\n",
      "1 (11426, 11438) 435 U.S. 371\n",
      "1 (12551, 12563) 60 Stat. 420\n",
      "1 (14046, 14058) 342 U.S. 246\n",
      "1 (14322, 14334) 508 U.S. 200\n",
      "1 (14438, 14450) 353 U.S. 222\n",
      "1 (15638, 15650) 410 U.S. 396\n",
      "1 (16083, 16096) 184 F.3d 1071\n",
      "1 (16134, 16145) 511 F.2d 25\n",
      "1 (16902, 16914) 348 U.S. 528\n",
      "1 (17079, 17091) 107 U.S. 147\n",
      "1 (19939, 19950) 534 U.S. 84\n",
      "1 (20825, 20837) 48 Stat. 979\n",
      "1 (22957, 22969) 60 Stat. 420\n",
      "2 (378, 390) 492 U.S. 361\n",
      "2 (1089, 1098) 15 and 16\n",
      "2 (3444, 3459) 031 (Supp. 2003\n",
      "2 (7178, 7192) 944 S.W.2d 165\n",
      "2 (7222, 7234) 522 U.S. 953\n",
      "2 (7374, 7387) 235 F.3d 1124\n",
      "2 (7414, 7426) 534 U.S. 924\n",
      "2 (7667, 7679) 536 U.S. 304\n",
      "2 (8012, 8026) 112 S.W.3d 397\n",
      "2 (8811, 8824) 540 U.S. 1160\n",
      "2 (9135, 9147) 408 U.S. 238\n",
      "2 (9231, 9243) 370 U.S. 660\n",
      "2 (9333, 9345) 329 U.S. 459\n",
      "2 (9764, 9776) 217 U.S. 349\n",
      "2 (10544, 10555) 356 U.S. 86\n",
      "2 (10652, 10664) 487 U.S. 815\n",
      "2 (13013, 13025) 492 U.S. 361\n",
      "2 (13449, 13462) 37 States, 25\n",
      "2 (14468, 14480) 492 U.S. 302\n",
      "2 (16451, 16463) 433 U.S. 584\n",
      "2 (17427, 17439) 477 U.S. 399\n",
      "2 (20012, 20028) 2003 WL 65043346\n",
      "2 (21016, 21029) 122 Wn.2d 440\n",
      "2 (21031, 21044) 858 P.2d 1092\n",
      "2 (22736, 22751) 133 (Sept. 1999\n",
      "2 (23547, 23556) 16 and 18\n",
      "2 (26501, 26513) 446 U.S. 420\n",
      "2 (26850, 26862) 438 U.S. 586\n",
      "2 (26951, 26963) 455 U.S. 104\n",
      "2 (27040, 27052) 509 U.S. 350\n",
      "2 (27169, 27181) 408 U.S. 238\n",
      "2 (27482, 27494) 433 U.S. 584\n",
      "2 (27581, 27593) 458 U.S. 782\n",
      "2 (27939, 27951) 477 U.S. 399\n",
      "2 (32966, 32978) 428 U.S. 153\n",
      "2 (34239, 34251) 501 U.S. 957\n",
      "2 (47046, 47055) 23 Geo. 5\n",
      "2 (47195, 47202) 11 & 12\n",
      "2 (49673, 49689) 615 (Michie 1997\n",
      "2 (49727, 49741) 11 (Lexis 1995\n",
      "2 (49823, 49836) 3 (Lexis 2004\n",
      "2 (49866, 49883) 4004 (Michie 2004\n",
      "2 (50077, 50091) 21 (Lexis 2000\n",
      "2 (50337, 50351) 17 (Lexis 2003\n",
      "2 (50542, 50555) 10 (West 2002\n",
      "2 (51053, 51065) 5 (West 1999\n",
      "2 (51611, 51624) 27 (West 2004\n",
      "2 (51770, 51783) 42 (West 2004\n",
      "2 (51912, 51923) 122 Wash. 2\n",
      "2 (51930, 51943) 858 P.2d 1092\n",
      "2 (52168, 52180) 278 Kan. 520\n",
      "2 (52182, 52190) 102 P. 3\n",
      "2 (52372, 52383) 3 N.Y.3d 88\n",
      "2 (52385, 52399) 817 N.E.2d 341\n",
      "2 (52401, 52417) 783 N.Y.S.2d 485\n",
      "2 (52678, 52686) 20 to 25\n",
      "2 (53529, 53543) 101 (West 2001\n",
      "2 (53576, 53591) 101 (Lexis 2002\n",
      "2 (53663, 53678) 101 (Lexis 2004\n",
      "2 (53977, 53992) 216 (Lexis 2003\n",
      "2 (54075, 54091) 402 (Michie 2001\n",
      "2 (54164, 54176) 1 (West 2002\n",
      "2 (54210, 54223) 1 (Lexis 1997\n",
      "2 (54378, 54392) 101 (West 2004\n",
      "2 (54554, 54569) 102 (Lexis 2002\n",
      "2 (54676, 54690) 492 (West 1989\n",
      "2 (55182, 55196) 102 (West 1998\n",
      "2 (55242, 55256) 55 (Lexis 2003\n",
      "2 (55535, 55548) 3 (Lexis 2003\n",
      "2 (55685, 55697) 1 (West 2004\n",
      "2 (55776, 55790) 002 (West 2003\n",
      "2 (55892, 55908) 2121 (Lexis 2002\n",
      "2 (56017, 56030) 3 (Lexis 2002\n",
      "2 (56086, 56099) 02 (West 2004\n",
      "2 (57140, 57155) 163 (Lexis 2001\n",
      "2 (57297, 57309) 2 (West 2002\n",
      "2 (57708, 57723) 1211 (West 1980\n",
      "2 (57771, 57786) 104 (Lexis 2002\n",
      "2 (57837, 57849) 1 (West 2000\n",
      "2 (58097, 58110) 1 (Lexis 2002\n",
      "2 (58231, 58247) 1601 (Supp. 2004\n",
      "2 (58633, 58646) 3 (Lexis 2003\n",
      "2 (58750, 58767) 42 (Anderson 2001\n",
      "2 (59267, 59282) 173 (Lexis 2003\n",
      "2 (59339, 59354) 337 (Lexis 2000\n",
      "2 (59396, 59410) 070 (West 2004\n",
      "2 (59495, 59508) 02 (West 2001\n",
      "2 (59542, 59557) 101 (Lexis 2003\n",
      "2 (59861, 59876) 171 (Lexis 2004\n",
      "2 (59979, 59994) 208 (Lexis 2002\n",
      "2 (60030, 60044) 301 (West 2004\n",
      "2 (60085, 60100) 106 (Lexis 2004\n",
      "2 (60185, 60200) 123 (Lexis 1999\n",
      "2 (60240, 60254) 411 (West 2001\n",
      "2 (60342, 60356) 37 (Lexis 2004\n",
      "2 (60609, 60625) 202 (Michie 1996\n",
      "2 (60668, 60682) 203 (West 2002\n",
      "2 (60821, 60836) 106 (Supp. 2003\n",
      "2 (60884, 60899) 210 (Lexis 1999\n",
      "2 (60950, 60965) 1547 (West 2004\n",
      "2 (61032, 61045) 29 (West 1999\n",
      "2 (61112, 61126) 652 (West 1998\n",
      "2 (61180, 61195) 301 (Lexis 2004\n",
      "2 (61422, 61435) 25 (West 1998\n",
      "2 (61475, 61489) 103 (West 2005\n",
      "2 (61569, 61582) 5 (Lexis 2004\n",
      "2 (61961, 61973) 5 (West 1992\n",
      "2 (62011, 62023) 6 (West 2002\n",
      "2 (62170, 62183) 2 (Lexis 2003\n",
      "2 (62224, 62238) 02 (Lexis 2004\n",
      "2 (62467, 62481) 11 (Supp. 2004\n",
      "2 (62585, 62597) 9 (West 2004\n",
      "2 (62682, 62696) 103 (West 1998\n",
      "2 (62783, 62799) 5142 (Lexis 2000\n",
      "2 (62847, 62861) 49 (Lexis 2004\n",
      "2 (62904, 62918) 210 (West 2005\n",
      "2 (62954, 62969) 301 (Lexis 2004\n",
      "2 (63041, 63056) 102 (Lexis 2003\n",
      "3 (1574, 1585) 66 Stat 201\n",
      "3 (2161, 2175) 102 Stat. 4469\n",
      "3 (2408, 2422) 110 Stat. 1277\n",
      "3 (2565, 2579) 110 Stat. 3009\n",
      "3 (2709, 2722) 104 Stat 5048\n",
      "3 (3546, 3559) 196 F.3d 1352\n",
      "3 (3931, 3945) 1013 (BIA 1999\n",
      "3 (4302, 4315) 346 (BIA 2002\n",
      "3 (5447, 5460) 540 U.S. 1176\n",
      "3 (5822, 5834) 298 F.3d 710\n",
      "3 (5840, 5853) 718 (CA8 2002\n",
      "3 (5895, 5908) 259 F.3d 1140\n",
      "3 (5915, 5929) 1146 (CA9 2001\n",
      "3 (5952, 5964) 257 F.3d 200\n",
      "3 (5970, 5983) 206 (CA2 2001\n",
      "3 (6006, 6018) 256 F.3d 600\n",
      "3 (6024, 6037) 611 (CA7 2001\n",
      "3 (6074, 6086) 243 F.3d 921\n",
      "3 (6112, 6124) 262 F.3d 479\n",
      "3 (6185, 6198) 702 (CA9 2001\n",
      "3 (6692, 6704) 98 Stat 2136\n",
      "3 (7319, 7331) 98 Stat 2136\n",
      "3 (9476, 9485) 751 So. 2\n",
      "3 (9496, 9510) 564 (Fla. 1999\n",
      "3 (9955, 9970) 394 (Lexis 2004\n",
      "3 (11137, 11153) 23153 (West 2000\n",
      "3 (11192, 11207) 629 (Lexis 1995\n",
      "3 (11867, 11879) 516 U.S. 137\n",
      "3 (13151, 13163) 508 U.S. 223\n",
      "3 (16296, 16309) 347 F.3d 1202\n",
      "3 (16316, 16331) 1207 (CA10 2003\n",
      "3 (16353, 16365) 256 F.3d 600\n",
      "3 (16371, 16384) 610 (CA7 2001\n",
      "3 (17968, 17980) 960 F.2d 221\n",
      "3 (17982, 17995) 225 (CA1 1992\n",
      "3 (18460, 18473) 347 F.3d 1202\n",
      "3 (18480, 18495) 1206 (CA10 2003\n",
      "3 (19109, 19121) 504 U.S. 505\n",
      "3 (19573, 19586) 1990 and 1991\n",
      "3 (19595, 19607) 104 Stat. 31\n",
      "3 (20628, 20640) 533 U.S. 167\n",
      "3 (21031, 21045) 104 Stat. 5048\n",
      "3 (21228, 21240) 104 Stat. 31\n",
      "4 (1400, 1410) 2001 UT 89\n",
      "4 (1412, 1424) 65 P.3d 1134\n",
      "4 (1447, 1462) 2001 WL 1246676\n",
      "4 (1744, 1753) 000 ($ 25\n",
      "4 (2075, 2085) 2001 UT 89\n",
      "4 (2116, 2131) 2001 WL 1246676\n",
      "4 (3438, 3450) 777 P.2d 437\n",
      "4 (3852, 3864) 840 P.2d 130\n",
      "4 (4427, 4439) 517 U.S. 559\n",
      "4 (6019, 6029) 2001 UT 89\n",
      "4 (6071, 6086) 2001 WL 1246676\n",
      "4 (7131, 7141) 2001 UT 89\n",
      "4 (7183, 7198) 2001 WL 1246676\n",
      "4 (7609, 7619) 2001 UT 89\n",
      "4 (7650, 7665) 2001 WL 1246676\n",
      "4 (7698, 7711) 535 U.S. 1111\n",
      "4 (7713, 7726) 535 U.S. 1111\n",
      "4 (7847, 7859) 532 U.S. 424\n",
      "4 (8640, 8650) 499 U.S. 1\n",
      "4 (9031, 9043) 512 U.S. 415\n",
      "4 (9137, 9149) 509 U.S. 443\n",
      "4 (9209, 9219) 499 U.S. 1\n",
      "4 (12445, 12457) 517 U.S. 559\n",
      "4 (15969, 15979) 2001 UT 89\n",
      "4 (16021, 16036) 2001 WL 1246676\n",
      "4 (18366, 18378) 421 U.S. 809\n",
      "4 (18655, 18667) 234 U.S. 149\n",
      "4 (19232, 19244) 146 U.S. 657\n",
      "4 (19898, 19910) 472 U.S. 797\n",
      "4 (22315, 22325) 2001 UT 89\n",
      "4 (22365, 22380) 2001 WL 1246676\n",
      "4 (24429, 24439) 2001 UT 89\n",
      "4 (24481, 24496) 2001 WL 1246676\n",
      "4 (24507, 24517) 2001 UT 89\n",
      "4 (24548, 24563) 2001 WL 1246676\n",
      "4 (24840, 24850) 2001 UT 89\n",
      "4 (24892, 24907) 2001 WL 1246676\n",
      "4 (27375, 27383) 500 to 1\n",
      "4 (27419, 27427) 145 to 1\n",
      "4 (30255, 30265) 2001 UT 89\n",
      "4 (30307, 30322) 2001 WL 1246676\n",
      "4 (33977, 33987) 2001 UT 89\n",
      "4 (34029, 34044) 2001 WL 1246676\n"
     ]
    }
   ],
   "source": [
    "# extract citations\n",
    "for i, doc in enumerate(docs):\n",
    "    finder = re.finditer('\\d+ [^\\s]+ \\d+', # pattern to match ([^\\s] means non-white-space)\n",
    "                     doc)            # string\n",
    "    for m in finder: \n",
    "        print(i, m.span(),m.group()) # location (start,end) and matching string"
   ]
  },
  {
   "cell_type": "code",
   "execution_count": 149,
   "metadata": {},
   "outputs": [],
   "source": [
    "# baker-bloom economic uncertainty\n",
    "pattern1 = r'(\\b)uncertain[a-z]*'\n",
    "pattern2 = r'(\\b)econom[a-z]*'\n",
    "pattern3 = r'(\\b)congress(\\b)|(\\b)deficit(\\b)|(\\b)federal reserve(\\b)|(\\b)legislation(\\b)|(\\b)regulation(\\b)|(\\b)white house(\\b)'"
   ]
  },
  {
   "cell_type": "code",
   "execution_count": 150,
   "metadata": {},
   "outputs": [
    {
     "data": {
      "text/plain": [
       "<re.Match object; span=(30, 41), match='uncertainty'>"
      ]
     },
     "execution_count": 150,
     "metadata": {},
     "output_type": "execute_result"
    }
   ],
   "source": [
    "re.search(pattern1,'The White House tried to calm uncertainty in the markets.')"
   ]
  },
  {
   "cell_type": "code",
   "execution_count": 159,
   "metadata": {},
   "outputs": [
    {
     "data": {
      "text/plain": [
       "<re.Match object; span=(46, 53), match='economy'>"
      ]
     },
     "execution_count": 159,
     "metadata": {},
     "output_type": "execute_result"
    }
   ],
   "source": [
    "re.search(pattern2,'The Congress tried to calm uncertainty in the economy.')"
   ]
  },
  {
   "cell_type": "code",
   "execution_count": 162,
   "metadata": {},
   "outputs": [],
   "source": [
    "re.search(pattern3,'The Congress tried to calm uncertainty in the markets.')"
   ]
  },
  {
   "cell_type": "code",
   "execution_count": 163,
   "metadata": {},
   "outputs": [
    {
     "data": {
      "text/plain": [
       "<re.Match object; span=(4, 12), match='Congress'>"
      ]
     },
     "execution_count": 163,
     "metadata": {},
     "output_type": "execute_result"
    }
   ],
   "source": [
    "re.search(pattern3,'The Congress tried to calm uncertainty in the markets.', re.IGNORECASE)"
   ]
  },
  {
   "cell_type": "code",
   "execution_count": 164,
   "metadata": {},
   "outputs": [],
   "source": [
    "def indicates_uncertainty(doc):\n",
    "    m1 = re.search(pattern1, doc, re.IGNORECASE)\n",
    "    m2 = re.search(pattern2, doc, re.IGNORECASE)\n",
    "    m3 = re.search(pattern3, doc, re.IGNORECASE)\n",
    "    if m1 and m2 and m3:\n",
    "        return True\n",
    "    else:\n",
    "        return False"
   ]
  },
  {
   "cell_type": "code",
   "execution_count": 165,
   "metadata": {},
   "outputs": [
    {
     "data": {
      "text/plain": [
       "True"
      ]
     },
     "execution_count": 165,
     "metadata": {},
     "output_type": "execute_result"
    }
   ],
   "source": [
    "indicates_uncertainty('The White House tried to calm uncertainty in the economy.')"
   ]
  },
  {
   "cell_type": "code",
   "execution_count": 166,
   "metadata": {},
   "outputs": [
    {
     "data": {
      "text/plain": [
       "False"
      ]
     },
     "execution_count": 166,
     "metadata": {},
     "output_type": "execute_result"
    }
   ],
   "source": [
    "indicates_uncertainty('The White House tried to calm uncertainty in the markets.')"
   ]
  },
  {
   "cell_type": "code",
   "execution_count": 167,
   "metadata": {},
   "outputs": [],
   "source": [
    "df['uncertainty'] = df['opinion_text'].apply(indicates_uncertainty)"
   ]
  },
  {
   "cell_type": "code",
   "execution_count": 169,
   "metadata": {},
   "outputs": [
    {
     "data": {
      "text/plain": [
       "0.057291666666666664"
      ]
     },
     "execution_count": 169,
     "metadata": {},
     "output_type": "execute_result"
    }
   ],
   "source": [
    "df.uncertainty.mean()"
   ]
  },
  {
   "cell_type": "code",
   "execution_count": 172,
   "metadata": {},
   "outputs": [
    {
     "data": {
      "text/plain": [
       "<matplotlib.axes._subplots.AxesSubplot at 0x7fe0e8ff6710>"
      ]
     },
     "execution_count": 172,
     "metadata": {},
     "output_type": "execute_result"
    },
    {
     "data": {
      "image/png": "[encoded data removed]",
      "text/plain": [
       "<Figure size 432x288 with 1 Axes>"
      ]
     },
     "metadata": {
      "needs_background": "light"
     },
     "output_type": "display_data"
    }
   ],
   "source": [
    "df.groupby('year')['uncertainty'].mean().plot()"
   ]
  },
  {
   "cell_type": "markdown",
   "metadata": {},
   "source": [
    "## WordNet"
   ]
  },
  {
   "cell_type": "code",
   "execution_count": null,
   "metadata": {},
   "outputs": [],
   "source": [
    "These examples are based on the [NLTK tutorial](https://www.nltk.org/howto/wordnet.html)."
   ]
  },
  {
   "cell_type": "code",
   "execution_count": 173,
   "metadata": {},
   "outputs": [],
   "source": [
    "# nltk.download('wordnet')\n",
    "from nltk.corpus import wordnet as wn"
   ]
  },
  {
   "cell_type": "code",
   "execution_count": 176,
   "metadata": {},
   "outputs": [
    {
     "data": {
      "text/plain": [
       "[Synset('judge.n.01'),\n",
       " Synset('evaluator.n.01'),\n",
       " Synset('judge.v.01'),\n",
       " Synset('evaluate.v.02'),\n",
       " Synset('estimate.v.01'),\n",
       " Synset('pronounce.v.02'),\n",
       " Synset('judge.v.05')]"
      ]
     },
     "execution_count": 176,
     "metadata": {},
     "output_type": "execute_result"
    }
   ],
   "source": [
    "wn.synsets('judge')"
   ]
  },
  {
   "cell_type": "code",
   "execution_count": 248,
   "metadata": {},
   "outputs": [
    {
     "data": {
      "text/plain": [
       "[Synset('judge.v.01'),\n",
       " Synset('evaluate.v.02'),\n",
       " Synset('estimate.v.01'),\n",
       " Synset('pronounce.v.02'),\n",
       " Synset('judge.v.05')]"
      ]
     },
     "execution_count": 248,
     "metadata": {},
     "output_type": "execute_result"
    }
   ],
   "source": [
    "wn.synsets('judge', pos='v') # can filter on part of speech"
   ]
  },
  {
   "cell_type": "code",
   "execution_count": 181,
   "metadata": {},
   "outputs": [
    {
     "data": {
      "text/plain": [
       "Synset('judge.n.01')"
      ]
     },
     "execution_count": 181,
     "metadata": {},
     "output_type": "execute_result"
    }
   ],
   "source": [
    "judge = wn.synset('judge.n.01')\n",
    "judge"
   ]
  },
  {
   "cell_type": "code",
   "execution_count": 182,
   "metadata": {},
   "outputs": [
    {
     "data": {
      "text/plain": [
       "'a public official authorized to decide questions brought before a court of justice'"
      ]
     },
     "execution_count": 182,
     "metadata": {},
     "output_type": "execute_result"
    }
   ],
   "source": [
    "judge.definition()"
   ]
  },
  {
   "cell_type": "code",
   "execution_count": 188,
   "metadata": {},
   "outputs": [
    {
     "data": {
      "text/plain": [
       "[]"
      ]
     },
     "execution_count": 188,
     "metadata": {},
     "output_type": "execute_result"
    }
   ],
   "source": [
    "judge.examples()"
   ]
  },
  {
   "cell_type": "code",
   "execution_count": 189,
   "metadata": {},
   "outputs": [
    {
     "data": {
      "text/plain": [
       "['I estimate this chicken to weigh three pounds']"
      ]
     },
     "execution_count": 189,
     "metadata": {},
     "output_type": "execute_result"
    }
   ],
   "source": [
    "wn.synset('estimate.v.01').examples()"
   ]
  },
  {
   "cell_type": "code",
   "execution_count": 199,
   "metadata": {},
   "outputs": [
    {
     "data": {
      "text/plain": [
       "[Synset('adjudicator.n.01'), Synset('official.n.01')]"
      ]
     },
     "execution_count": 199,
     "metadata": {},
     "output_type": "execute_result"
    }
   ],
   "source": [
    "# categories to which \"judge.n.01\" belongs\n",
    "judge.hypernyms()"
   ]
  },
  {
   "cell_type": "code",
   "execution_count": 210,
   "metadata": {},
   "outputs": [
    {
     "data": {
      "text/plain": [
       "[Synset('entity.n.01')]"
      ]
     },
     "execution_count": 210,
     "metadata": {},
     "output_type": "execute_result"
    }
   ],
   "source": [
    "# the root category of \"judge.n.01\"\n",
    "judge.root_hypernyms()"
   ]
  },
  {
   "cell_type": "code",
   "execution_count": 211,
   "metadata": {},
   "outputs": [
    {
     "data": {
      "text/plain": [
       "[Synset('think.v.03')]"
      ]
     },
     "execution_count": 211,
     "metadata": {},
     "output_type": "execute_result"
    }
   ],
   "source": [
    "wn.synset('estimate.v.01').root_hypernyms()"
   ]
  },
  {
   "cell_type": "code",
   "execution_count": 201,
   "metadata": {},
   "outputs": [
    {
     "data": {
      "text/plain": [
       "[Synset('alcalde.n.01'),\n",
       " Synset('chief_justice.n.01'),\n",
       " Synset('daniel.n.02'),\n",
       " Synset('doge.n.01'),\n",
       " Synset('justiciar.n.01'),\n",
       " Synset('magistrate.n.01'),\n",
       " Synset('ordinary.n.01'),\n",
       " Synset('praetor.n.01'),\n",
       " Synset('qadi.n.01'),\n",
       " Synset('recorder.n.03'),\n",
       " Synset('trial_judge.n.01'),\n",
       " Synset('trier.n.01')]"
      ]
     },
     "execution_count": 201,
     "metadata": {},
     "output_type": "execute_result"
    }
   ],
   "source": [
    "# members of the \"judge.n.01\" category\n",
    "judge.hyponyms()"
   ]
  },
  {
   "cell_type": "code",
   "execution_count": 218,
   "metadata": {},
   "outputs": [
    {
     "data": {
      "text/plain": [
       "[Synset('jury.n.01')]"
      ]
     },
     "execution_count": 218,
     "metadata": {},
     "output_type": "execute_result"
    }
   ],
   "source": [
    "# \"holonym\" is a part of a whole\n",
    "juror = wn.synset('juror.n.01')\n",
    "juror.member_holonyms()"
   ]
  },
  {
   "cell_type": "code",
   "execution_count": 219,
   "metadata": {},
   "outputs": [
    {
     "data": {
      "text/plain": [
       "[Synset('person.n.01')]"
      ]
     },
     "execution_count": 219,
     "metadata": {},
     "output_type": "execute_result"
    }
   ],
   "source": [
    "# can find \"lowest common hypernyms\":\n",
    "judge.lowest_common_hypernyms(juror)"
   ]
  },
  {
   "cell_type": "code",
   "execution_count": 220,
   "metadata": {},
   "outputs": [
    {
     "data": {
      "text/plain": [
       "[Lemma('judge.n.01.judge'),\n",
       " Lemma('judge.n.01.justice'),\n",
       " Lemma('judge.n.01.jurist')]"
      ]
     },
     "execution_count": 220,
     "metadata": {},
     "output_type": "execute_result"
    }
   ],
   "source": [
    "# \"lemmas\" are specific senses of a specific word.\n",
    "judge.lemmas()"
   ]
  },
  {
   "cell_type": "code",
   "execution_count": 221,
   "metadata": {},
   "outputs": [
    {
     "data": {
      "text/plain": [
       "['judge', 'justice', 'jurist']"
      ]
     },
     "execution_count": 221,
     "metadata": {},
     "output_type": "execute_result"
    }
   ],
   "source": [
    "[lemma.name() for lemma in judge.lemmas()]"
   ]
  },
  {
   "cell_type": "code",
   "execution_count": 222,
   "metadata": {},
   "outputs": [
    {
     "data": {
      "text/plain": [
       "[Lemma('judicial.s.01.judicial'),\n",
       " Lemma('judicial.a.02.judicial'),\n",
       " Lemma('judicial.a.03.judicial'),\n",
       " Lemma('judgeship.n.01.judgeship'),\n",
       " Lemma('judge.v.05.judge'),\n",
       " Lemma('judge.v.05.adjudicate'),\n",
       " Lemma('decide.v.02.adjudicate')]"
      ]
     },
     "execution_count": 222,
     "metadata": {},
     "output_type": "execute_result"
    }
   ],
   "source": [
    "# lemmas have additional properties\n",
    "judge_lemma = judge.lemmas()[0]\n",
    "judge_lemma.derivationally_related_forms()"
   ]
  },
  {
   "cell_type": "code",
   "execution_count": 230,
   "metadata": {},
   "outputs": [
    {
     "data": {
      "text/plain": [
       "[Lemma('bad.a.01.bad')]"
      ]
     },
     "execution_count": 230,
     "metadata": {},
     "output_type": "execute_result"
    }
   ],
   "source": [
    "good = wn.synset('good.a.01').lemmas()[0]\n",
    "good.antonyms()"
   ]
  },
  {
   "cell_type": "code",
   "execution_count": 231,
   "metadata": {},
   "outputs": [
    {
     "data": {
      "text/plain": [
       "[]"
      ]
     },
     "execution_count": 231,
     "metadata": {},
     "output_type": "execute_result"
    }
   ],
   "source": [
    "good.pertainyms()"
   ]
  },
  {
   "cell_type": "code",
   "execution_count": 240,
   "metadata": {},
   "outputs": [
    {
     "data": {
      "text/plain": [
       "['Somebody judge something', 'Somebody judge PP', 'Somebody judge that CLAUSE']"
      ]
     },
     "execution_count": 240,
     "metadata": {},
     "output_type": "execute_result"
    }
   ],
   "source": [
    "# verb frames summarize the different semantic contexts that a verb can be used\n",
    "judge_verb = wn.synset('estimate.v.01').lemmas()[4]\n",
    "judge_verb.frame_strings()"
   ]
  },
  {
   "cell_type": "code",
   "execution_count": 241,
   "metadata": {},
   "outputs": [
    {
     "data": {
      "text/plain": [
       "0.1111111111111111"
      ]
     },
     "execution_count": 241,
     "metadata": {},
     "output_type": "execute_result"
    }
   ],
   "source": [
    "# measure similarity in the dictionary between words\n",
    "judge.path_similarity(juror)"
   ]
  },
  {
   "cell_type": "code",
   "execution_count": 246,
   "metadata": {},
   "outputs": [
    {
     "data": {
      "text/plain": [
       "0.14285714285714285"
      ]
     },
     "execution_count": 246,
     "metadata": {},
     "output_type": "execute_result"
    }
   ],
   "source": [
    "judge.path_similarity(wn.synset('dog.n.01'))"
   ]
  },
  {
   "cell_type": "code",
   "execution_count": 245,
   "metadata": {},
   "outputs": [
    {
     "data": {
      "text/plain": [
       "0.5454545454545454"
      ]
     },
     "execution_count": 245,
     "metadata": {},
     "output_type": "execute_result"
    }
   ],
   "source": [
    "# Wu-Palmer similarity.\n",
    "judge.wup_similarity(juror)"
   ]
  },
  {
   "cell_type": "code",
   "execution_count": 247,
   "metadata": {},
   "outputs": [
    {
     "data": {
      "text/plain": [
       "0.6666666666666666"
      ]
     },
     "execution_count": 247,
     "metadata": {},
     "output_type": "execute_result"
    }
   ],
   "source": [
    "judge.wup_similarity(wn.synset('dog.n.01'))"
   ]
  },
  {
   "cell_type": "code",
   "execution_count": 254,
   "metadata": {},
   "outputs": [
    {
     "name": "stdout",
     "output_type": "stream",
     "text": [
      "Synset('judgeship.n.01')\n",
      "Synset('judgment.n.02')\n",
      "Synset('value_judgment.n.01')\n",
      "Synset('judgment.n.03')\n",
      "Synset('confession_of_judgment.n.01')\n",
      "Synset('default_judgment.n.01')\n",
      "Synset('final_judgment.n.01')\n",
      "Synset('judgment_in_personam.n.01')\n",
      "Synset('judgment_in_rem.n.01')\n",
      "Synset('judgment_of_dismissal.n.01')\n",
      "Synset('judgment_on_the_merits.n.01')\n",
      "Synset('summary_judgment.n.01')\n",
      "Synset('judgment.n.06')\n",
      "Synset('judgment.n.04')\n",
      "Synset('prejudgment.n.01')\n",
      "Synset('judgment.n.01')\n",
      "Synset('judges.n.01')\n",
      "Synset('back_judge.n.01')\n",
      "Synset('field_judge.n.01')\n",
      "Synset('judge.n.01')\n",
      "Synset('judge_advocate.n.02')\n",
      "Synset('judge_advocate.n.01')\n",
      "Synset('judge_advocate_general.n.01')\n",
      "Synset('line_judge.n.01')\n",
      "Synset('side_judge.n.01')\n",
      "Synset('trial_judge.n.01')\n",
      "Synset('judgment_lien.n.01')\n",
      "Synset('judgment_day.n.01')\n"
     ]
    }
   ],
   "source": [
    "# Can iterate over all synsets; e.g., all nouns:\n",
    "for synset in list(wn.all_synsets('n')):\n",
    "    if 'judg' in str(synset):\n",
    "        print(synset)"
   ]
  },
  {
   "cell_type": "markdown",
   "metadata": {},
   "source": [
    "**Exercise**. Use wordnet to expand the set of words in the Baker-Bloom-Davis dictionary and re-compute policy uncertainty scores by year. "
   ]
  }
 ],
 "metadata": {
  "kernelspec": {
   "display_name": "Python 3",
   "language": "python",
   "name": "python3"
  },
  "language_info": {
   "codemirror_mode": {
    "name": "ipython",
    "version": 3
   },
   "file_extension": ".py",
   "mimetype": "text/x-python",
   "name": "python",
   "nbconvert_exporter": "python",
   "pygments_lexer": "ipython3",
   "version": "3.7.5"
  },
  "toc": {
   "base_numbering": "1",
   "nav_menu": {},
   "number_sections": true,
   "sideBar": true,
   "skip_h1_title": false,
   "title_cell": "Week 01. Text Data Essentials",
   "title_sidebar": "Contents",
   "toc_cell": true,
   "toc_position": {
    "height": "calc(100% - 180px)",
    "left": "10px",
    "top": "150px",
    "width": "165px"
   },
   "toc_section_display": true,
   "toc_window_display": true
  },
  "toc-autonumbering": false,
  "toc-showcode": false,
  "toc-showmarkdowntxt": false,
  "toc-showtags": false
 },
 "nbformat": 4,
 "nbformat_minor": 4
}
